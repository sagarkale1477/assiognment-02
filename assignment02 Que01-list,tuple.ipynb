{
 "cells": [
  {
   "cell_type": "code",
   "execution_count": 1,
   "id": "d220faae",
   "metadata": {},
   "outputs": [
    {
     "name": "stdout",
     "output_type": "stream",
     "text": [
      "input list before reverse : -  [(2, 5), (1, 2), (4, 4), (2, 3), (2, 1)]\n",
      "output result after reverse :- [(2, 1), (1, 2), (2, 3), (4, 4), (2, 5)]\n"
     ]
    }
   ],
   "source": [
    "a=[(2,5),(1,2),(4,4),(2,3),(2,1)]\n",
    "print(\"input list before reverse : - \",a)\n",
    "b=[ ]\n",
    "for j in range (1,len(a)) :\n",
    "    for i in range(len(a)-j) :\n",
    "        if a[i][1]>a[i+1][1] :\n",
    "            temp=a[i]\n",
    "            a[i]=a[i+1]\n",
    "            a[i+1]=temp\n",
    "for i in range (len(a)) :\n",
    "    b.append(a[i])\n",
    "\n",
    "print(\"output result after reverse :-\",b)"
   ]
  },
  {
   "cell_type": "code",
   "execution_count": null,
   "id": "a6d3ae3d",
   "metadata": {},
   "outputs": [],
   "source": []
  }
 ],
 "metadata": {
  "kernelspec": {
   "display_name": "Python 3 (ipykernel)",
   "language": "python",
   "name": "python3"
  },
  "language_info": {
   "codemirror_mode": {
    "name": "ipython",
    "version": 3
   },
   "file_extension": ".py",
   "mimetype": "text/x-python",
   "name": "python",
   "nbconvert_exporter": "python",
   "pygments_lexer": "ipython3",
   "version": "3.10.4"
  }
 },
 "nbformat": 4,
 "nbformat_minor": 5
}
